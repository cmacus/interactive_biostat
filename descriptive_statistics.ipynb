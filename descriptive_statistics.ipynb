{
 "cells": [
  {
   "cell_type": "markdown",
   "metadata": {},
   "source": [
    "# Interactive workbook of biostatistics\n",
    "\n",
    "Press Ctrl + Enter in any code cell to run it and see the results."
   ]
  },
  {
   "cell_type": "code",
   "execution_count": 125,
   "metadata": {},
   "outputs": [],
   "source": [
    "import numpy as np\n",
    "import plotly.plotly as py\n",
    "import plotly.graph_objs as go\n",
    "import ipywidgets as widgets\n",
    "from ipywidgets import interact, interact_manual\n",
    "from collections import Counter\n",
    "import matplotlib\n",
    "matplotlib.rcParams['figure.dpi'] = 300\n",
    "import matplotlib.pyplot as plt\n",
    "plt.style.use('seaborn')\n",
    "%matplotlib inline\n",
    "np.random.seed(42)"
   ]
  },
  {
   "cell_type": "markdown",
   "metadata": {},
   "source": [
    "## Descriptive statistics\n",
    "\n",
    "### Histograms\n",
    "\n",
    "#### Discrete variables - which can take only a few defined values\n",
    "\n",
    "The first exercise, is of course, to make a histogram, which is just a representation of a frequency distribution table. This is the distribution of shoe sizes in a class: \n",
    "\n",
    "| Shoe size | Number of students|\n",
    "|-----------|-------------------|\n",
    "| 7         | 7                 |\n",
    "| 7.5       | 9                 |\n",
    "| 8         | 14                |\n",
    "| 8.5       | 20                |\n",
    "| 9         | 13                |\n",
    "| 9.5       | 8                 |\n",
    "| 10        | 2                 |"
   ]
  },
  {
   "cell_type": "code",
   "execution_count": 126,
   "metadata": {},
   "outputs": [
    {
     "data": {
      "image/png": "[encoded data removed]",
      "text/plain": [
       "<matplotlib.figure.Figure at 0x7fcb14e9f0b8>"
      ]
     },
     "metadata": {},
     "output_type": "display_data"
    }
   ],
   "source": [
    "# Histograms\n",
    "shoe_sizes = [7,7,7,7,7,7,7,7.5,7.5,7.5,7.5,7.5,7.5,7.5,7.5,7.5,\\\n",
    "               8,8,8,8,8,8,8,8,8,8,8,8,8,8,8.5,8.5,8.5,8.5,8.5,8.5,\\\n",
    "               8.5,8.5,8.5,8.5,8.5,8.5,8.5,8.5,8.5,8.5,8.5,8.5,8.5,\\\n",
    "               8.5,9,9,9,9,9,9,9,9,9,9,9,9,9,9.5,9.5,9.5,9.5,9.5,\\\n",
    "               9.5,9.5,9.5,10,10]\n",
    "plt.hist(shoe_sizes)\n",
    "plt.xlabel('Shoe size')\n",
    "plt.ylabel('Number of students')\n",
    "plt.title('Histogram of shoe sizes')\n",
    "plt.show()"
   ]
  },
  {
   "cell_type": "markdown",
   "metadata": {},
   "source": [
    "#### Continuous variables - which may have any fractional value\n",
    "\n",
    "Following is the fasting blood sugar of 100 patients."
   ]
  },
  {
   "cell_type": "code",
   "execution_count": 127,
   "metadata": {},
   "outputs": [
    {
     "data": {
      "text/plain": [
       "array([ 74.94, 144.09, 117.84, 101.84,  48.72,  48.72,  36.97, 133.94,\n",
       "       102.13, 114.97,  32.47, 146.39, 129.89,  55.48,  51.82,  52.01,\n",
       "        66.51,  92.97,  81.83,  64.95, 103.42,  46.74,  65.06,  73.96,\n",
       "        84.73, 124.22,  53.96,  91.71, 101.09,  35.57, 102.91,  50.46,\n",
       "        37.81, 143.87, 145.88, 127.01,  66.55,  41.72, 112.11,  82.82,\n",
       "        44.64,  89.42,  34.13, 139.12,  61.05, 109.5 ,  67.41,  92.41,\n",
       "        95.61,  52.18, 146.35, 123.02, 142.74, 137.38, 101.75, 140.62,\n",
       "        40.62,  53.52,  35.43,  69.04,  76.64,  62.56, 129.45,  72.81,\n",
       "        63.71,  95.12,  46.91, 126.26,  38.95, 148.43, 122.67,  53.85,\n",
       "        30.66, 127.86, 114.82, 117.48, 122.55,  38.89,  73.02,  43.9 ,\n",
       "       133.57, 104.8 ,  69.71,  37.63,  67.32,  69.02, 117.55, 106.51,\n",
       "       136.47,  86.67,  44.35, 115.59, 121.29,  97.35, 122.52,  89.26,\n",
       "        92.73,  81.3 ,  33.05,  42.95])"
      ]
     },
     "execution_count": 127,
     "metadata": {},
     "output_type": "execute_result"
    }
   ],
   "source": [
    "fasting_sugars = np.round(np.random.sample(100)*120,2)+30\n",
    "fasting_sugars"
   ]
  },
  {
   "cell_type": "markdown",
   "metadata": {},
   "source": [
    "The histogram of _continuous_ variables depends on how dense (or sparse) you choose the class intervals (bins). Drag the slider to adjust the number of bins."
   ]
  },
  {
   "cell_type": "code",
   "execution_count": 128,
   "metadata": {},
   "outputs": [
    {
     "data": {
      "application/vnd.jupyter.widget-view+json": {
       "model_id": "70c539ec8b8b476eb87d3ac365e5b066",
       "version_major": 2,
       "version_minor": 0
      },
      "text/html": [
       "<p>Failed to display Jupyter Widget of type <code>interactive</code>.</p>\n",
       "<p>\n",
       "  If you're reading this message in the Jupyter Notebook or JupyterLab Notebook, it may mean\n",
       "  that the widgets JavaScript is still loading. If this message persists, it\n",
       "  likely means that the widgets JavaScript library is either not installed or\n",
       "  not enabled. See the <a href=\"https://ipywidgets.readthedocs.io/en/stable/user_install.html\">Jupyter\n",
       "  Widgets Documentation</a> for setup instructions.\n",
       "</p>\n",
       "<p>\n",
       "  If you're reading this message in another frontend (for example, a static\n",
       "  rendering on GitHub or <a href=\"https://nbviewer.jupyter.org/\">NBViewer</a>),\n",
       "  it may mean that your frontend doesn't currently support widgets.\n",
       "</p>\n"
      ],
      "text/plain": [
       "interactive(children=(IntSlider(value=30, description='bins', max=50, min=10, step=5), Output()), _dom_classes=('widget-interact',))"
      ]
     },
     "metadata": {},
     "output_type": "display_data"
    }
   ],
   "source": [
    "@interact\n",
    "def histogram_sugar_with_bins(bins=(10,50,5)):\n",
    "    plt.xlabel('Fasting sugar')\n",
    "    plt.ylabel('Number of patients')\n",
    "    plt.title('Histogram of fasting sugar')\n",
    "    plt.hist(fasting_sugars,bins=bins)"
   ]
  },
  {
   "cell_type": "markdown",
   "metadata": {},
   "source": [
    "## Measures of central tendency\n",
    "\n",
    "The following code computes the mean, median and mode of fasting sugars."
   ]
  },
  {
   "cell_type": "code",
   "execution_count": 42,
   "metadata": {},
   "outputs": [
    {
     "name": "stdout",
     "output_type": "stream",
     "text": [
      "Mean 87.6179, median 85.655, mode 49.870000000000005 occurs 2 times\n"
     ]
    }
   ],
   "source": [
    "mn = np.mean(fasting_sugars)\n",
    "ma = np.median(fasting_sugars)\n",
    "md = Counter(fasting_sugars).most_common(1)\n",
    "print (\"Mean %s, median %s, mode %s occurs %s times\" % (mn, ma, md[0][0], md[0][1]))"
   ]
  },
  {
   "cell_type": "markdown",
   "metadata": {},
   "source": [
    "For such a sample, the variance\n",
    "\n",
    "\\begin{equation}\n",
    "\\sigma^2 = \\frac {\\sum (X - \\bar X)^2} {n - 1}\n",
    "\\end{equation}\n",
    "\n",
    "And standard deviation\n",
    "\n",
    "\n",
    "\\begin{equation}\n",
    "\\sigma = \\sqrt { \\frac {\\sum (X - \\bar X)^2} {n - 1}}\n",
    "\\end{equation}"
   ]
  },
  {
   "cell_type": "code",
   "execution_count": 129,
   "metadata": {},
   "outputs": [
    {
     "name": "stdout",
     "output_type": "stream",
     "text": [
      "Variance 1261.670514, SD 35.52000160472969\n"
     ]
    }
   ],
   "source": [
    "var = np.var(fasting_sugars)\n",
    "sd = np.std(fasting_sugars)\n",
    "print(\"Variance %s, SD %s\" % (var, sd))"
   ]
  },
  {
   "cell_type": "markdown",
   "metadata": {},
   "source": [
    "## Discrete probability distributions\n",
    "\n",
    "### Binomial distribution\n",
    "\n",
    "A binomial distribution is _n_ repeats of two possible values. To simplify things, we toss the coin only twice. The possible outcomes are HH, HT, TH and TT. \n",
    "\n",
    "| Outcome of two tosses | HH | HT | TH | TT|\n",
    "|-----------------------|----|----|----|---|\n",
    "| Number of H           | 2  | 1  | 1  | 0 |\n",
    "| Probability of H      | 2/4| 1/4| 1/4| 0 |\n",
    "\n",
    "Now we toss the coin twice and plot the probability of 'H'. We repeat the experiment hundred times and draw a histogram of 'H'"
   ]
  },
  {
   "cell_type": "code",
   "execution_count": 130,
   "metadata": {},
   "outputs": [
    {
     "data": {
      "image/png": "[encoded data removed]",
      "text/plain": [
       "<matplotlib.figure.Figure at 0x7fcb157a9b70>"
      ]
     },
     "metadata": {},
     "output_type": "display_data"
    }
   ],
   "source": [
    "n=2\n",
    "heads_count = []\n",
    "heads_freq = []\n",
    "for i in range(100):\n",
    "    coin_results = np.random.randint(0,2,n)\n",
    "    total_outcomes = 2^n\n",
    "    heads = [c for c in coin_results if c==0]\n",
    "    heads_count.append(heads)\n",
    "for hc in heads_count:\n",
    "    heads_freq.append(len(hc))\n",
    "plt.hist(heads_freq)\n",
    "plt.xlabel('Number of heads')\n",
    "plt.ylabel('Frequency')\n",
    "plt.show()"
   ]
  },
  {
   "cell_type": "markdown",
   "metadata": {},
   "source": [
    "Drag the slidebar to increase the coin tosses (n)"
   ]
  },
  {
   "cell_type": "code",
   "execution_count": 131,
   "metadata": {},
   "outputs": [
    {
     "data": {
      "application/vnd.jupyter.widget-view+json": {
       "model_id": "9231786be166433dbcb082c7e7a7042b",
       "version_major": 2,
       "version_minor": 0
      },
      "text/html": [
       "<p>Failed to display Jupyter Widget of type <code>interactive</code>.</p>\n",
       "<p>\n",
       "  If you're reading this message in the Jupyter Notebook or JupyterLab Notebook, it may mean\n",
       "  that the widgets JavaScript is still loading. If this message persists, it\n",
       "  likely means that the widgets JavaScript library is either not installed or\n",
       "  not enabled. See the <a href=\"https://ipywidgets.readthedocs.io/en/stable/user_install.html\">Jupyter\n",
       "  Widgets Documentation</a> for setup instructions.\n",
       "</p>\n",
       "<p>\n",
       "  If you're reading this message in another frontend (for example, a static\n",
       "  rendering on GitHub or <a href=\"https://nbviewer.jupyter.org/\">NBViewer</a>),\n",
       "  it may mean that your frontend doesn't currently support widgets.\n",
       "</p>\n"
      ],
      "text/plain": [
       "interactive(children=(IntSlider(value=15, description='n', max=30, min=1), Output()), _dom_classes=('widget-interact',))"
      ]
     },
     "metadata": {},
     "output_type": "display_data"
    }
   ],
   "source": [
    "@interact\n",
    "def histogram_coins(n=(1,30,1)):\n",
    "    heads_count = []\n",
    "    heads_freq = []\n",
    "    for i in range(100):\n",
    "        coin_results = np.random.randint(0,2,n)\n",
    "        total_outcomes = 2^n\n",
    "        heads = [c for c in coin_results if c==0]\n",
    "        heads_count.append(heads)\n",
    "    for hc in heads_count:\n",
    "        heads_freq.append(len(hc))\n",
    "    plt.hist(heads_freq)\n",
    "    plt.xlabel('Number of heads')\n",
    "    plt.ylabel('Frequency')\n",
    "    plt.show()"
   ]
  },
  {
   "cell_type": "markdown",
   "metadata": {},
   "source": [
    "## Continuous distributions\n",
    "\n",
    "We go on collecting fasting sugars of a very large number of patients. Drag the slider for number of patients."
   ]
  },
  {
   "cell_type": "code",
   "execution_count": 132,
   "metadata": {},
   "outputs": [
    {
     "data": {
      "application/vnd.jupyter.widget-view+json": {
       "model_id": "6a744567db524497941e43ac688c25b6",
       "version_major": 2,
       "version_minor": 0
      },
      "text/html": [
       "<p>Failed to display Jupyter Widget of type <code>interactive</code>.</p>\n",
       "<p>\n",
       "  If you're reading this message in the Jupyter Notebook or JupyterLab Notebook, it may mean\n",
       "  that the widgets JavaScript is still loading. If this message persists, it\n",
       "  likely means that the widgets JavaScript library is either not installed or\n",
       "  not enabled. See the <a href=\"https://ipywidgets.readthedocs.io/en/stable/user_install.html\">Jupyter\n",
       "  Widgets Documentation</a> for setup instructions.\n",
       "</p>\n",
       "<p>\n",
       "  If you're reading this message in another frontend (for example, a static\n",
       "  rendering on GitHub or <a href=\"https://nbviewer.jupyter.org/\">NBViewer</a>),\n",
       "  it may mean that your frontend doesn't currently support widgets.\n",
       "</p>\n"
      ],
      "text/plain": [
       "interactive(children=(IntSlider(value=500, description='n', max=1000, min=100, step=100), Output()), _dom_classes=('widget-interact',))"
      ]
     },
     "metadata": {},
     "output_type": "display_data"
    }
   ],
   "source": [
    "@interact\n",
    "def plot_random_fasting_sugar(n=(100,1000,100)):\n",
    "    fasting_sugars = np.random.sample(n)*120+30\n",
    "    plt.hist(fasting_sugars)\n",
    "    plt.show()"
   ]
  },
  {
   "cell_type": "markdown",
   "metadata": {},
   "source": [
    "Hmm. Does not seem to have a pattern. However, we now calculate the _mean_ and then plot the _differences_ from the mean of each data point, divided by the standard deviation."
   ]
  },
  {
   "cell_type": "code",
   "execution_count": 140,
   "metadata": {},
   "outputs": [
    {
     "data": {
      "application/vnd.jupyter.widget-view+json": {
       "model_id": "2284d535d6a6484c9cdd1255c5a48d0a",
       "version_major": 2,
       "version_minor": 0
      },
      "text/html": [
       "<p>Failed to display Jupyter Widget of type <code>interactive</code>.</p>\n",
       "<p>\n",
       "  If you're reading this message in the Jupyter Notebook or JupyterLab Notebook, it may mean\n",
       "  that the widgets JavaScript is still loading. If this message persists, it\n",
       "  likely means that the widgets JavaScript library is either not installed or\n",
       "  not enabled. See the <a href=\"https://ipywidgets.readthedocs.io/en/stable/user_install.html\">Jupyter\n",
       "  Widgets Documentation</a> for setup instructions.\n",
       "</p>\n",
       "<p>\n",
       "  If you're reading this message in another frontend (for example, a static\n",
       "  rendering on GitHub or <a href=\"https://nbviewer.jupyter.org/\">NBViewer</a>),\n",
       "  it may mean that your frontend doesn't currently support widgets.\n",
       "</p>\n"
      ],
      "text/plain": [
       "interactive(children=(IntSlider(value=500, description='n', max=1000, min=100, step=100), IntSlider(value=50, description='bins', min=10, step=10), Output()), _dom_classes=('widget-interact',))"
      ]
     },
     "metadata": {},
     "output_type": "display_data"
    }
   ],
   "source": [
    "@interact\n",
    "def plot_random_fasting_sugar(n=(100,1000,100),bins=(10,100,10)):\n",
    "    fasting_sugars = np.random.sample(n)*120+30\n",
    "    diffs = (fasting_sugars-np.mean(fasting_sugars))/np.std(fasting_sugars)\n",
    "    plt.hist(diffs,bins=bins)"
   ]
  },
  {
   "cell_type": "markdown",
   "metadata": {},
   "source": [
    "Interesting. It hints at a pattern, but still not very clear. Lets draw _k_ samples of size _j_ each from this and plot a histogram of their means."
   ]
  },
  {
   "cell_type": "code",
   "execution_count": 149,
   "metadata": {},
   "outputs": [
    {
     "data": {
      "application/vnd.jupyter.widget-view+json": {
       "model_id": "535dcdda8caa41309097dffa0205187a",
       "version_major": 2,
       "version_minor": 0
      },
      "text/html": [
       "<p>Failed to display Jupyter Widget of type <code>interactive</code>.</p>\n",
       "<p>\n",
       "  If you're reading this message in the Jupyter Notebook or JupyterLab Notebook, it may mean\n",
       "  that the widgets JavaScript is still loading. If this message persists, it\n",
       "  likely means that the widgets JavaScript library is either not installed or\n",
       "  not enabled. See the <a href=\"https://ipywidgets.readthedocs.io/en/stable/user_install.html\">Jupyter\n",
       "  Widgets Documentation</a> for setup instructions.\n",
       "</p>\n",
       "<p>\n",
       "  If you're reading this message in another frontend (for example, a static\n",
       "  rendering on GitHub or <a href=\"https://nbviewer.jupyter.org/\">NBViewer</a>),\n",
       "  it may mean that your frontend doesn't currently support widgets.\n",
       "</p>\n"
      ],
      "text/plain": [
       "interactive(children=(IntSlider(value=4910, description='n', max=10000, min=10, step=100), IntSlider(value=50, description='j', min=10, step=10), IntSlider(value=250, description='k', max=500, min=10, step=10), Output()), _dom_classes=('widget-interact',))"
      ]
     },
     "metadata": {},
     "output_type": "display_data"
    }
   ],
   "source": [
    "@interact\n",
    "def plot_sample_means(n=(10,10000,100),j=(10,100,10),k=(10,500,10)):\n",
    "    fasting_sugars = np.random.sample(n)*120+30\n",
    "    samples_drawn = []\n",
    "    sample_means = []\n",
    "    for i in range(k):\n",
    "        sample_drawn = np.random.choice(fasting_sugars,size=j)\n",
    "        samples_drawn.append(sample_drawn)\n",
    "    sample_means = [np.mean(s) for s in samples_drawn]\n",
    "    plt.hist(sample_means)"
   ]
  },
  {
   "cell_type": "markdown",
   "metadata": {},
   "source": [
    "This curve, which emerges from the sample means of _any_ measurement, is the **normal distribution**"
   ]
  }
 ],
 "metadata": {
  "kernelspec": {
   "display_name": "Python 3",
   "language": "python",
   "name": "python3"
  },
  "language_info": {
   "codemirror_mode": {
    "name": "ipython",
    "version": 3
   },
   "file_extension": ".py",
   "mimetype": "text/x-python",
   "name": "python",
   "nbconvert_exporter": "python",
   "pygments_lexer": "ipython3",
   "version": "3.6.3"
  }
 },
 "nbformat": 4,
 "nbformat_minor": 2
}
